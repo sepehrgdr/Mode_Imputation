{
 "cells": [
  {
   "cell_type": "markdown",
   "metadata": {},
   "source": [
    "# Calculate point to polyline distance\n",
    "## ! Download and install Anaconda 2 with Python 2.7 32 bit.\n",
    "Don't check any option during installation."
   ]
  },
  {
   "cell_type": "code",
   "execution_count": 1,
   "metadata": {},
   "outputs": [],
   "source": [
    "# append the path to packages provided by ArcGIS\n",
    "import sys\n",
    "sys.path.append(r'C:\\Program Files (x86)\\ArcGIS\\Desktop10.5\\arcpy')\n",
    "sys.path.append(r'C:\\Program Files (x86)\\ArcGIS\\Desktop10.5\\bin')\n",
    "sys.path.append(r'C:\\Program Files (x86)\\ArcGIS\\Desktop10.5\\ArcToolbox\\Scripts')"
   ]
  },
  {
   "cell_type": "code",
   "execution_count": 2,
   "metadata": {},
   "outputs": [
    {
     "ename": "ImportError",
     "evalue": "No module named 'arcpy'",
     "output_type": "error",
     "traceback": [
      "\u001b[0;31m---------------------------------------------------------------------------\u001b[0m",
      "\u001b[0;31mImportError\u001b[0m                               Traceback (most recent call last)",
      "\u001b[0;32m<ipython-input-2-f962cfccc3e6>\u001b[0m in \u001b[0;36m<module>\u001b[0;34m\u001b[0m\n\u001b[1;32m      1\u001b[0m \u001b[0;31m# Then you can import arcpy\u001b[0m\u001b[0;34m\u001b[0m\u001b[0;34m\u001b[0m\u001b[0m\n\u001b[0;32m----> 2\u001b[0;31m \u001b[0;32mimport\u001b[0m \u001b[0marcpy\u001b[0m\u001b[0;34m\u001b[0m\u001b[0m\n\u001b[0m\u001b[1;32m      3\u001b[0m \u001b[0;31m# Import other common packages\u001b[0m\u001b[0;34m\u001b[0m\u001b[0;34m\u001b[0m\u001b[0m\n\u001b[1;32m      4\u001b[0m \u001b[0;32mimport\u001b[0m \u001b[0mnumpy\u001b[0m \u001b[0;32mas\u001b[0m \u001b[0mnp\u001b[0m\u001b[0;34m\u001b[0m\u001b[0m\n\u001b[1;32m      5\u001b[0m \u001b[0;32mimport\u001b[0m \u001b[0mpandas\u001b[0m \u001b[0;32mas\u001b[0m \u001b[0mpd\u001b[0m\u001b[0;34m\u001b[0m\u001b[0m\n",
      "\u001b[0;31mImportError\u001b[0m: No module named 'arcpy'"
     ]
    }
   ],
   "source": [
    "# Then you can import arcpy\n",
    "import arcpy\n",
    "# Import other common packages\n",
    "import numpy as np\n",
    "import pandas as pd\n",
    "import csv\n",
    "import string as str"
   ]
  },
  {
   "cell_type": "code",
   "execution_count": 3,
   "metadata": {},
   "outputs": [],
   "source": [
    "# Global parameters\n",
    "# WGC1984 (EPSG: 4326) to NAD83(2011)_USA (EPSG: 6350)\n",
    "sr_in = arcpy.SpatialReference(4326)\n",
    "sr_out = arcpy.SpatialReference(6350)"
   ]
  },
  {
   "cell_type": "code",
   "execution_count": 16,
   "metadata": {},
   "outputs": [],
   "source": [
    "# Global functions\n",
    "def near_analysis(point_nad, network_nad, dist_csv):\n",
    "    # the nearest distance will be stored in the first input file\n",
    "    arcpy.Near_analysis(point_nad, network_nad)\n",
    "    \n",
    "    # read the distances and store in the output file\n",
    "    cursor = arcpy.da.SearchCursor(point_nad, ['NEAR_DIST'])\n",
    "    near_dist = []\n",
    "    for row in cursor:\n",
    "        near_dist.append(row)\n",
    "    # To unlock the point_nad shapefile\n",
    "    del cursor, row\n",
    "\n",
    "    with open(dist_csv, 'ab') as myfile:\n",
    "        wr = csv.writer(myfile, quoting=csv.QUOTE_ALL)\n",
    "        wr.writerows(near_dist)\n",
    "    myfile.close()"
   ]
  },
  {
   "cell_type": "markdown",
   "metadata": {},
   "source": [
    "Network input -- Deal with the metro-rail network: Example in BMC region."
   ]
  },
  {
   "cell_type": "code",
   "execution_count": 4,
   "metadata": {},
   "outputs": [
    {
     "ename": "ExecuteError",
     "evalue": "Failed to execute. Parameters are not valid.\nERROR 000725: Output Dataset or Feature Class: Dataset C:\\0YPan\\Big Data_PCLD\\Mode Imputation\\Attributes\\rail_geo_NAD83.shp already exists.\nFailed to execute (Project).\n",
     "output_type": "error",
     "traceback": [
      "\u001b[1;31m---------------------------------------------------------------------------\u001b[0m",
      "\u001b[1;31mExecuteError\u001b[0m                              Traceback (most recent call last)",
      "\u001b[1;32m<ipython-input-4-19190f00378f>\u001b[0m in \u001b[0;36m<module>\u001b[1;34m()\u001b[0m\n\u001b[0;32m      4\u001b[0m \u001b[0mnetwork_nadFC\u001b[0m \u001b[1;33m=\u001b[0m \u001b[1;34mr'C:\\0YPan\\Big Data_PCLD\\Mode Imputation\\Attributes\\rail_geo_NAD83.shp'\u001b[0m\u001b[1;33m\u001b[0m\u001b[0m\n\u001b[0;32m      5\u001b[0m \u001b[1;31m# Project input shapefiles to projected coordinating systems for future distance calculation\u001b[0m\u001b[1;33m\u001b[0m\u001b[1;33m\u001b[0m\u001b[0m\n\u001b[1;32m----> 6\u001b[1;33m \u001b[0marcpy\u001b[0m\u001b[1;33m.\u001b[0m\u001b[0mProject_management\u001b[0m\u001b[1;33m(\u001b[0m\u001b[0mnetwork_input\u001b[0m\u001b[1;33m,\u001b[0m \u001b[0mnetwork_nadFC\u001b[0m\u001b[1;33m,\u001b[0m \u001b[0msr_out\u001b[0m\u001b[1;33m)\u001b[0m\u001b[1;33m\u001b[0m\u001b[0m\n\u001b[0m",
      "\u001b[1;32mC:\\Program Files (x86)\\ArcGIS\\Desktop10.5\\arcpy\\arcpy\\management.py\u001b[0m in \u001b[0;36mProject\u001b[1;34m(in_dataset, out_dataset, out_coor_system, transform_method, in_coor_system, preserve_shape, max_deviation, vertical)\u001b[0m\n\u001b[0;32m   9473\u001b[0m         \u001b[1;32mreturn\u001b[0m \u001b[0mretval\u001b[0m\u001b[1;33m\u001b[0m\u001b[0m\n\u001b[0;32m   9474\u001b[0m     \u001b[1;32mexcept\u001b[0m \u001b[0mException\u001b[0m \u001b[1;32mas\u001b[0m \u001b[0me\u001b[0m\u001b[1;33m:\u001b[0m\u001b[1;33m\u001b[0m\u001b[0m\n\u001b[1;32m-> 9475\u001b[1;33m         \u001b[1;32mraise\u001b[0m \u001b[0me\u001b[0m\u001b[1;33m\u001b[0m\u001b[0m\n\u001b[0m\u001b[0;32m   9476\u001b[0m \u001b[1;33m\u001b[0m\u001b[0m\n\u001b[0;32m   9477\u001b[0m \u001b[1;33m\u001b[0m\u001b[0m\n",
      "\u001b[1;31mExecuteError\u001b[0m: Failed to execute. Parameters are not valid.\nERROR 000725: Output Dataset or Feature Class: Dataset C:\\0YPan\\Big Data_PCLD\\Mode Imputation\\Attributes\\rail_geo_NAD83.shp already exists.\nFailed to execute (Project).\n"
     ]
    }
   ],
   "source": [
    "# original metro-rail input in shapefile format\n",
    "network_input = r'C:\\0YPan\\Big Data_PCLD\\Mode Imputation\\Attributes\\rail_geo.shp'\n",
    "# will use projected coordinate system\n",
    "network_nadFC = r'C:\\0YPan\\Big Data_PCLD\\Mode Imputation\\Attributes\\rail_geo_NAD83.shp'\n",
    "# Project input shapefiles to projected coordinating systems for future distance calculation\n",
    "arcpy.Project_management(network_input, network_nadFC, sr_out)"
   ]
  },
  {
   "cell_type": "markdown",
   "metadata": {},
   "source": [
    "Network input -- Deal with the bus lines: Example in BMC region."
   ]
  },
  {
   "cell_type": "code",
   "execution_count": 6,
   "metadata": {},
   "outputs": [],
   "source": [
    "# original station input in shapefile format\n",
    "busline_input = r'C:\\0YPan\\Big Data_PCLD\\Mode Imputation\\Bus\\Bus_BMC_Full.shp'\n",
    "# will use projected coordinate system\n",
    "busline_nadFC = r'C:\\0YPan\\Big Data_PCLD\\Mode Imputation\\Attributes\\Bus_BMC_Full_NAD83.shp'\n",
    "# project input shapefiles to projected coordinating systems for future distance calculation\n",
    "arcpy.Project_management(busline_input, busline_nadFC, sr_out)"
   ]
  },
  {
   "cell_type": "markdown",
   "metadata": {},
   "source": [
    "Network input -- Deal with the bus stations: Example in BMC region."
   ]
  },
  {
   "cell_type": "code",
   "execution_count": 3,
   "metadata": {},
   "outputs": [],
   "source": [
    "# original station input in shapefile format\n",
    "bus_input = r'C:\\0YPan\\Big Data_PCLD\\Mode Imputation\\Attributes\\Bus_Stops_BMC.shp'\n",
    "# will use projected coordinate system\n",
    "bus_nadFC = r'C:\\0YPan\\Big Data_PCLD\\Mode Imputation\\Attributes\\Bus_Stops_BMC_NAD83.shp'\n",
    "# project input shapefiles to projected coordinating systems for future distance calculation\n",
    "arcpy.Project_management(bus_input, bus_nadFC, sr_out)"
   ]
  },
  {
   "cell_type": "markdown",
   "metadata": {},
   "source": [
    "Network input -- Deal with the roadway network: Example in MD-DC-VA region."
   ]
  },
  {
   "cell_type": "code",
   "execution_count": 10,
   "metadata": {},
   "outputs": [
    {
     "data": {
      "text/plain": [
       "<Result 'C:\\\\0YPan\\\\Big Data_PCLD\\\\Mode Imputation\\\\Attributes\\\\DMVRoad_NAD83.shp'>"
      ]
     },
     "execution_count": 10,
     "metadata": {},
     "output_type": "execute_result"
    }
   ],
   "source": [
    "# original roadway input in shapefile format\n",
    "dmvroad_input = r'C:\\0YPan\\Big Data_PCLD\\Mode Imputation\\Highway\\MD_VA_DC_Drive Network\\edge.shp'\n",
    "# will use projected coordinate system\n",
    "dmvroad_nadFC = r'C:\\0YPan\\Big Data_PCLD\\Mode Imputation\\Attributes\\DMVRoad_NAD83.shp'\n",
    "# project input shapefiles to projected coordinating systems for future distance calculation\n",
    "arcpy.Project_management(dmvroad_input, dmvroad_nadFC, sr_out)"
   ]
  },
  {
   "cell_type": "markdown",
   "metadata": {},
   "source": [
    "Network input -- Deal with the roadway network: national major roads and interstate highways"
   ]
  },
  {
   "cell_type": "code",
   "execution_count": 5,
   "metadata": {},
   "outputs": [
    {
     "data": {
      "text/plain": [
       "<Result 'C:\\\\0YPan\\\\Big Data_PCLD\\\\Mode Imputation\\\\Attributes\\\\Roads_national_NAD83.shp'>"
      ]
     },
     "execution_count": 5,
     "metadata": {},
     "output_type": "execute_result"
    }
   ],
   "source": [
    "# original roadway input in shapefile format\n",
    "road_input = r'C:\\0YPan\\Big Data_PCLD\\Mode Imputation\\Highway\\Roads_national.shp'\n",
    "# will use projected coordinate system\n",
    "road_nadFC = r'C:\\0YPan\\Big Data_PCLD\\Mode Imputation\\Attributes\\Roads_national_NAD83.shp'\n",
    "# project input shapefiles to projected coordinating systems for future distance calculation\n",
    "arcpy.Project_management(road_input, road_nadFC, sr_out)"
   ]
  },
  {
   "cell_type": "markdown",
   "metadata": {},
   "source": [
    "Network input -- Deal with the airport locations (public-owned airports with non-zero passengers)"
   ]
  },
  {
   "cell_type": "code",
   "execution_count": 30,
   "metadata": {},
   "outputs": [
    {
     "data": {
      "text/plain": [
       "<Result 'C:\\\\0YPan\\\\Big Data_PCLD\\\\Mode Imputation\\\\Attributes\\\\Airport_NAD83.shp'>"
      ]
     },
     "execution_count": 30,
     "metadata": {},
     "output_type": "execute_result"
    }
   ],
   "source": [
    "# original roadway input in shapefile format\n",
    "air_input = r'C:\\0YPan\\Big Data_PCLD\\Mode Imputation\\Rail\\Airports\\Airport_commercial.shp'\n",
    "# will use projected coordinate system\n",
    "air_nadFC = r'C:\\0YPan\\Big Data_PCLD\\Mode Imputation\\Attributes\\Airport_NAD83.shp'\n",
    "# project input shapefiles to projected coordinating systems for future distance calculation\n",
    "arcpy.Project_management(air_input, air_nadFC, sr_out)"
   ]
  },
  {
   "cell_type": "markdown",
   "metadata": {},
   "source": [
    "Deal with the sightings --- Training data in DC MSA."
   ]
  },
  {
   "cell_type": "code",
   "execution_count": 12,
   "metadata": {},
   "outputs": [
    {
     "name": "stdout",
     "output_type": "stream",
     "text": [
      "('Rail dist file name: ', 'C:\\\\0YPan\\\\Big Data_PCLD\\\\Mode Imputation\\\\Training\\\\rail_dist_train.csv')\n",
      "('Bus dist file name: ', 'C:\\\\0YPan\\\\Big Data_PCLD\\\\Mode Imputation\\\\Training\\\\bus_dist_train.csv')\n",
      "('Road dist file name: ', 'C:\\\\0YPan\\\\Big Data_PCLD\\\\Mode Imputation\\\\Training\\\\road_dist_train.csv')\n"
     ]
    }
   ],
   "source": [
    "# Case when there is one single point file\n",
    "# original data input in csv format\n",
    "point_file = r'C:\\0YPan\\Big Data_PCLD\\Mode Imputation\\Training\\point_ad_sec.csv'\n",
    "point_FC = r'C:\\0YPan\\Big Data_PCLD\\Mode Imputation\\Training\\point_ad_sec.shp'\n",
    "point_nadFC = r'C:\\0YPan\\Big Data_PCLD\\Mode Imputation\\Training\\point_ad_NAD83.shp'\n",
    "\n",
    "point_FC_path = r'C:\\0YPan\\Big Data_PCLD\\Mode Imputation\\Training'\n",
    "# file to store the final results (nearest distance for each point to the network)\n",
    "rail_dist_file = point_FC_path + \"\\\\rail_dist_train.csv\"\n",
    "bus_dist_file = str.replace(rail_dist_file, \"rail\", \"bus\")\n",
    "road_dist_file = str.replace(rail_dist_file, \"rail\", \"road\")\n",
    "print(\"Rail dist file name: \", rail_dist_file)\n",
    "print(\"Bus dist file name: \", bus_dist_file)\n",
    "print(\"Road dist file name: \", road_dist_file)"
   ]
  },
  {
   "cell_type": "code",
   "execution_count": 17,
   "metadata": {},
   "outputs": [
    {
     "name": "stdout",
     "output_type": "stream",
     "text": [
      "('Length of orginal data inputs: ', 61265)\n",
      "['trip_ID', 'id', 'mobileID', 'latitude', 'longitude', 'speed', 'accuracy', 'timestamp']\n",
      "('Length of np array: ', 61265)\n"
     ]
    },
    {
     "ename": "NameError",
     "evalue": "name 'busline_nadFC' is not defined",
     "output_type": "error",
     "traceback": [
      "\u001b[1;31m---------------------------------------------------------------------------\u001b[0m",
      "\u001b[1;31mNameError\u001b[0m                                 Traceback (most recent call last)",
      "\u001b[1;32m<ipython-input-17-241b50f63eaa>\u001b[0m in \u001b[0;36m<module>\u001b[1;34m()\u001b[0m\n\u001b[0;32m     21\u001b[0m \u001b[1;33m\u001b[0m\u001b[0m\n\u001b[0;32m     22\u001b[0m \u001b[0mnear_analysis\u001b[0m\u001b[1;33m(\u001b[0m\u001b[0mpoint_nadFC\u001b[0m\u001b[1;33m,\u001b[0m \u001b[0mnetwork_nadFC\u001b[0m\u001b[1;33m,\u001b[0m \u001b[0mrail_dist_file\u001b[0m\u001b[1;33m)\u001b[0m\u001b[1;33m\u001b[0m\u001b[0m\n\u001b[1;32m---> 23\u001b[1;33m \u001b[0mnear_analysis\u001b[0m\u001b[1;33m(\u001b[0m\u001b[0mpoint_nadFC\u001b[0m\u001b[1;33m,\u001b[0m \u001b[0mbusline_nadFC\u001b[0m\u001b[1;33m,\u001b[0m \u001b[0mbus_dist_file\u001b[0m\u001b[1;33m)\u001b[0m\u001b[1;33m\u001b[0m\u001b[0m\n\u001b[0m\u001b[0;32m     24\u001b[0m \u001b[0mnear_analysis\u001b[0m\u001b[1;33m(\u001b[0m\u001b[0mpoint_nadFC\u001b[0m\u001b[1;33m,\u001b[0m \u001b[0mdmvroad_nadFC\u001b[0m\u001b[1;33m,\u001b[0m \u001b[0mroad_dist_file\u001b[0m\u001b[1;33m)\u001b[0m\u001b[1;33m\u001b[0m\u001b[0m\n",
      "\u001b[1;31mNameError\u001b[0m: name 'busline_nadFC' is not defined"
     ]
    }
   ],
   "source": [
    "# Case when there is one single point file\n",
    "mylist = []\n",
    "for chunk in pd.read_csv(point_file, header=0, chunksize = 2e4):\n",
    "    mylist.append(chunk)\n",
    "data = pd.concat(mylist, axis= 0)\n",
    "print(\"Length of orginal data inputs: \",len(data))\n",
    "names = data.dtypes.index.tolist()\n",
    "print(names)\n",
    "# as long as the length of original data inputs is less than 500,000\n",
    "data_np = np.array(np.rec.fromrecords(data.values))\n",
    "data_np.dtype.names = tuple(names)\n",
    "data_final = data_np\n",
    "data = data_final\n",
    "print(\"Length of np array: \", len(data))\n",
    "# Clear the current work space\n",
    "del mylist, data_np, data_final\n",
    "\n",
    "# make sure the point_FC doesn't exist. Otherwise, will need to run the following code twice.\n",
    "arcpy.da.NumPyArrayToFeatureClass(data, point_FC,[\"longitude\",\"latitude\"], sr_in)\n",
    "# project both input shapefiles to projected coordinating systems for future distance calculation\n",
    "arcpy.Project_management(point_FC, point_nadFC, sr_out)\n",
    "\n",
    "# Calculate distance to rail network and store to rail_dist_file\n",
    "near_analysis(point_nadFC, network_nadFC, rail_dist_file)\n",
    "# Calculate distance to bus network and store to bus_dist_file\n",
    "near_analysis(point_nadFC, busline_nadFC, bus_dist_file)\n",
    "# Calculate distance to roadway network and store to road_dist_file\n",
    "near_analysis(point_nadFC, dmvroad_nadFC, road_dist_file)\n",
    "print(\"Finished!\")"
   ]
  },
  {
   "cell_type": "markdown",
   "metadata": {},
   "source": [
    "Deal with the long-distance trips --- O/D in BMC region."
   ]
  },
  {
   "cell_type": "code",
   "execution_count": 32,
   "metadata": {},
   "outputs": [
    {
     "name": "stdout",
     "output_type": "stream",
     "text": [
      "('Rail dist file name: ', 'C:\\\\0YPan\\\\Big Data_PCLD\\\\Mode Imputation\\\\Long_Dist\\\\rail_dist_long.csv')\n",
      "('Bus dist file name: ', 'C:\\\\0YPan\\\\Big Data_PCLD\\\\Mode Imputation\\\\Long_Dist\\\\bus_dist_long.csv')\n",
      "('Road dist file name: ', 'C:\\\\0YPan\\\\Big Data_PCLD\\\\Mode Imputation\\\\Long_Dist\\\\road_dist_long.csv')\n",
      "('Airport dist file name: ', 'C:\\\\0YPan\\\\Big Data_PCLD\\\\Mode Imputation\\\\Long_Dist\\\\air_dist_long.csv')\n"
     ]
    }
   ],
   "source": [
    "# Case when there is one single point file\n",
    "# original data input in csv format\n",
    "point_file = r'C:\\0YPan\\Big Data_PCLD\\Mode Imputation\\Long_Dist\\coords.csv'\n",
    "point_FC = r'C:\\0YPan\\Big Data_PCLD\\Mode Imputation\\Long_Dist\\coords.shp'\n",
    "point_nadFC = r'C:\\0YPan\\Big Data_PCLD\\Mode Imputation\\Long_Dist\\coords_NAD83.shp'\n",
    "\n",
    "point_FC_path = r'C:\\0YPan\\Big Data_PCLD\\Mode Imputation\\Long_Dist'\n",
    "# file to store the final results (nearest distance for each point to the network)\n",
    "rail_dist_file = point_FC_path + \"\\\\rail_dist_long.csv\"\n",
    "bus_dist_file = str.replace(rail_dist_file, \"rail\", \"bus\")\n",
    "road_dist_file = str.replace(rail_dist_file, \"rail\", \"road\")\n",
    "air_dist_file = str.replace(rail_dist_file, \"rail\", \"air\")\n",
    "print(\"Rail dist file name: \", rail_dist_file)\n",
    "print(\"Bus dist file name: \", bus_dist_file)\n",
    "print(\"Road dist file name: \", road_dist_file)\n",
    "print(\"Airport dist file name: \", air_dist_file)"
   ]
  },
  {
   "cell_type": "code",
   "execution_count": 29,
   "metadata": {},
   "outputs": [
    {
     "name": "stdout",
     "output_type": "stream",
     "text": [
      "('Length of orginal data inputs: ', 236680)\n",
      "['trip_id', 'lat', 'long']\n",
      "('Length of np array: ', 236680)\n",
      "Finished!\n"
     ]
    }
   ],
   "source": [
    "# Case when there is one single point file\n",
    "mylist = []\n",
    "for chunk in pd.read_csv(point_file, header=0, chunksize = 2e4):\n",
    "    mylist.append(chunk)\n",
    "data = pd.concat(mylist, axis= 0)\n",
    "print(\"Length of orginal data inputs: \",len(data))\n",
    "names = data.dtypes.index.tolist()\n",
    "print(names)\n",
    "# as long as the length of original data inputs is less than 500,000\n",
    "data_np = np.array(np.rec.fromrecords(data.values))\n",
    "data_np.dtype.names = tuple(names)\n",
    "data_final = data_np\n",
    "data = data_final\n",
    "print(\"Length of np array: \", len(data))\n",
    "# Clear the current work space\n",
    "del mylist, data_np, data_final\n",
    "\n",
    "# make sure the point_FC doesn't exist. Otherwise, will need to run the following code twice.\n",
    "arcpy.da.NumPyArrayToFeatureClass(data, point_FC,[\"long\",\"lat\"], sr_in)\n",
    "# project both input shapefiles to projected coordinating systems for future distance calculation\n",
    "arcpy.Project_management(point_FC, point_nadFC, sr_out)\n",
    "\n",
    "# Calculate distance to rail network and store to rail_dist_file\n",
    "near_analysis(point_nadFC, network_nadFC, rail_dist_file)\n",
    "# Calculate distance to bus network and store to bus_dist_file\n",
    "near_analysis(point_nadFC, busline_nadFC, bus_dist_file)\n",
    "# Calculate distance to roadway network and store to road_dist_file\n",
    "near_analysis(point_nadFC, road_nadFC, road_dist_file)\n",
    "# Calculate distance to airports and store to road_dist_file\n",
    "near_analysis(point_nadFC, air_nadFC, road_dist_file)\n",
    "print(\"Finished!\")"
   ]
  },
  {
   "cell_type": "markdown",
   "metadata": {},
   "source": [
    "Deal with the sightings --- Example in BMC region."
   ]
  },
  {
   "cell_type": "code",
   "execution_count": 22,
   "metadata": {},
   "outputs": [
    {
     "name": "stdout",
     "output_type": "stream",
     "text": [
      "('point_dir_list -- First 5 files: ', ['coords_01.csv', 'coords_02.csv', 'coords_03.csv', 'coords_04.csv', 'coords_05.csv'])\n",
      "\n",
      "\n",
      "('point_input_list -- First 5 files: ', ['C:\\\\0YPan\\\\Big Data_PCLD\\\\Mode Imputation\\\\Attributes\\\\coords\\\\coords_01.csv', 'C:\\\\0YPan\\\\Big Data_PCLD\\\\Mode Imputation\\\\Attributes\\\\coords\\\\coords_02.csv', 'C:\\\\0YPan\\\\Big Data_PCLD\\\\Mode Imputation\\\\Attributes\\\\coords\\\\coords_03.csv', 'C:\\\\0YPan\\\\Big Data_PCLD\\\\Mode Imputation\\\\Attributes\\\\coords\\\\coords_04.csv', 'C:\\\\0YPan\\\\Big Data_PCLD\\\\Mode Imputation\\\\Attributes\\\\coords\\\\coords_05.csv'])\n",
      "\n",
      "\n",
      "('point_FC -- First 5 files: ', ['C:\\\\0YPan\\\\Big Data_PCLD\\\\Mode Imputation\\\\Attributes\\\\full_distance\\\\coords_01.shp', 'C:\\\\0YPan\\\\Big Data_PCLD\\\\Mode Imputation\\\\Attributes\\\\full_distance\\\\coords_02.shp', 'C:\\\\0YPan\\\\Big Data_PCLD\\\\Mode Imputation\\\\Attributes\\\\full_distance\\\\coords_03.shp', 'C:\\\\0YPan\\\\Big Data_PCLD\\\\Mode Imputation\\\\Attributes\\\\full_distance\\\\coords_04.shp', 'C:\\\\0YPan\\\\Big Data_PCLD\\\\Mode Imputation\\\\Attributes\\\\full_distance\\\\coords_05.shp'])\n",
      "\n",
      "\n",
      "('point_nadFC -- First 5 files: ', ['C:\\\\0YPan\\\\Big Data_PCLD\\\\Mode Imputation\\\\Attributes\\\\full_distance\\\\coords_NAD83_01.shp', 'C:\\\\0YPan\\\\Big Data_PCLD\\\\Mode Imputation\\\\Attributes\\\\full_distance\\\\coords_NAD83_02.shp', 'C:\\\\0YPan\\\\Big Data_PCLD\\\\Mode Imputation\\\\Attributes\\\\full_distance\\\\coords_NAD83_03.shp', 'C:\\\\0YPan\\\\Big Data_PCLD\\\\Mode Imputation\\\\Attributes\\\\full_distance\\\\coords_NAD83_04.shp', 'C:\\\\0YPan\\\\Big Data_PCLD\\\\Mode Imputation\\\\Attributes\\\\full_distance\\\\coords_NAD83_05.shp'])\n",
      "\n",
      "\n"
     ]
    }
   ],
   "source": [
    "# Case when there are multiple point files\n",
    "# original data input in csv format\n",
    "point_input_path = r'C:\\0YPan\\Big Data_PCLD\\Mode Imputation\\Attributes\\coords'\n",
    "import os\n",
    "point_dir_list = os.listdir(point_input_path)\n",
    "print(\"point_dir_list -- First 5 files: \",point_dir_list[:5])\n",
    "print('\\n')\n",
    "\n",
    "point_input_list = []\n",
    "for i in range(len(point_dir_list)):\n",
    "    list_tmp = point_input_path+\"\\\\\"+point_dir_list[i]\n",
    "    point_input_list.append(list_tmp)\n",
    "print(\"point_input_list -- First 5 files: \",point_input_list[:5])\n",
    "print('\\n')\n",
    "\n",
    "# the shapefile to be created based on csv file\n",
    "# print(\"Check first 5 file names of the original input: \", point_dir_list[:5])\n",
    "point_FC_path = r'C:\\0YPan\\Big Data_PCLD\\Mode Imputation\\Attributes\\full_distance'\n",
    "point_FC = []\n",
    "for i in range(len(point_dir_list)):\n",
    "    point_FC_tmp = point_FC_path+\"\\\\\"+str.replace(point_dir_list[i],'csv','shp')\n",
    "    point_FC.append(point_FC_tmp)\n",
    "print(\"point_FC -- First 5 files: \",point_FC[:5])\n",
    "print('\\n')\n",
    "\n",
    "# will project the lat/long to projected coordinate system\n",
    "point_nadFC = map(lambda x: str.replace(x,'coords',\"coords_NAD83\"), point_FC)\n",
    "print(\"point_nadFC -- First 5 files: \",point_nadFC[:5])\n",
    "print('\\n')"
   ]
  },
  {
   "cell_type": "code",
   "execution_count": 21,
   "metadata": {},
   "outputs": [
    {
     "name": "stdout",
     "output_type": "stream",
     "text": [
      "('Rail dist file name: ', 'C:\\\\0YPan\\\\Big Data_PCLD\\\\Mode Imputation\\\\Attributes\\\\full_distance\\\\rail_dist.csv')\n",
      "('Bus dist file name: ', 'C:\\\\0YPan\\\\Big Data_PCLD\\\\Mode Imputation\\\\Attributes\\\\full_distance\\\\bus_dist.csv')\n",
      "('Road dist file name: ', 'C:\\\\0YPan\\\\Big Data_PCLD\\\\Mode Imputation\\\\Attributes\\\\full_distance\\\\road_dist.csv')\n"
     ]
    }
   ],
   "source": [
    "point_FC_path = r'C:\\0YPan\\Big Data_PCLD\\Mode Imputation\\Attributes\\full_distance'\n",
    "# file to store the final results (nearest distance for each point to the network)\n",
    "rail_dist_file = point_FC_path + \"\\\\rail_dist.csv\"\n",
    "bus_dist_file = str.replace(rail_dist_file, \"rail\", \"bus\")\n",
    "road_dist_file = str.replace(rail_dist_file, \"rail\", \"road\")\n",
    "print(\"Rail dist file name: \", rail_dist_file)\n",
    "print(\"Bus dist file name: \", bus_dist_file)\n",
    "print(\"Road dist file name: \", road_dist_file)"
   ]
  },
  {
   "cell_type": "code",
   "execution_count": null,
   "metadata": {},
   "outputs": [],
   "source": [
    "# Original codes to calculate rail dist\n",
    "nfile = len(point_input_list)\n",
    "for count in range(nfile):\n",
    "    print(\"Iterations: \",count)\n",
    "    # Read files one by one\n",
    "    mylist = []\n",
    "    for chunk in pd.read_csv(point_input_list[count], dtype = np.float32, header=0, chunksize = 2e4):\n",
    "        mylist.append(chunk)\n",
    "    data = pd.concat(mylist, axis= 0)\n",
    "    print(\"Length of orginal data inputs: \",len(data)) # should be 1 million\n",
    "    names = data.dtypes.index.tolist()\n",
    "    # Maximum size can be excuted by np.array\n",
    "    if len(data)<500000:\n",
    "        data_np = np.array(np.rec.fromrecords(data.values))\n",
    "        data_np.dtype.names = tuple(names)\n",
    "        data_final = data_np\n",
    "    else:\n",
    "        data_1 = data.iloc[:500000]\n",
    "        data_np = np.array(np.rec.fromrecords(data_1.values))\n",
    "        data_np.dtype.names = tuple(names)\n",
    "        data_2 = data.iloc[500000:]\n",
    "        data_np_2 = np.array(np.rec.fromrecords(data_2.values))\n",
    "        data_np_2.dtype.names = tuple(names)\n",
    "        data_final = np.append(data_np,data_np_2)\n",
    "        del data_np_2, data_1, data_2\n",
    "    data = data_final\n",
    "    print(\"Length of np array: \", len(data))\n",
    "    # Clear the current work space\n",
    "    del mylist, data_np, data_final\n",
    "    \n",
    "    # make sure the point_FC doesn't exist. Otherwise, will need to run the following code twice.\n",
    "    arcpy.da.NumPyArrayToFeatureClass(data, point_FC[count],[\"long\",\"lat\"], sr_in)\n",
    "    # project both input shapefiles to projected coordinating systems for future distance calculation\n",
    "    arcpy.Project_management(point_FC[count], point_nadFC[count], sr_out)\n",
    "    \n",
    "    near_analysis(point_nadFC[count], network_nadFC, rail_dist_file)\n",
    "    near_analysis(point_nadFC[count], busline_nadFC, bus_dist_file)\n",
    "    near_analysis(point_nadFC[count], dmvroad_nadFC, road_dist_file)\n",
    "print(\"Finished!\")"
   ]
  },
  {
   "cell_type": "code",
   "execution_count": 12,
   "metadata": {},
   "outputs": [
    {
     "name": "stdout",
     "output_type": "stream",
     "text": [
      "Iterations: 0\n",
      "Iterations: 1\n",
      "Iterations: 2\n",
      "Iterations: 3\n",
      "Iterations: 4\n",
      "Iterations: 5\n",
      "Iterations: 6\n",
      "Iterations: 7\n",
      "Iterations: 8\n",
      "Iterations: 9\n",
      "Iterations: 10\n",
      "Iterations: 11\n",
      "Iterations: 12\n",
      "Iterations: 13\n",
      "Iterations: 14\n",
      "Iterations: 15\n",
      "Iterations: 16\n",
      "Iterations: 17\n",
      "Iterations: 18\n",
      "Iterations: 19\n",
      "Iterations: 20\n",
      "Iterations: 21\n",
      "Iterations: 22\n",
      "Iterations: 23\n",
      "Iterations: 24\n",
      "Iterations: 25\n",
      "Iterations: 26\n",
      "Iterations: 27\n",
      "Iterations: 28\n",
      "Iterations: 29\n",
      "Iterations: 30\n",
      "Iterations: 31\n",
      "Iterations: 32\n",
      "Iterations: 33\n",
      "Iterations: 34\n",
      "Iterations: 35\n",
      "Iterations: 36\n",
      "Iterations: 37\n",
      "Iterations: 38\n",
      "Iterations: 39\n",
      "Iterations: 40\n",
      "Iterations: 41\n",
      "Iterations: 42\n",
      "Iterations: 43\n",
      "Iterations: 44\n",
      "Iterations: 45\n"
     ]
    }
   ],
   "source": [
    "# Calculate busline distance\n",
    "nfile = len(point_nadFC)\n",
    "for count in range(nfile):\n",
    "    print(\"Iterations: {}\".format(count))\n",
    "    # the nearest distance will be stored in the first input file\n",
    "    \n",
    "    # !!! The NEAR_DIST column will be rewritten if new near analysis is performed.\n",
    "    near_analysis(point_nadFC[count], busline_nadFC, bus_dist_file)\n",
    "del myfile\n",
    "print(\"Finished!\")"
   ]
  },
  {
   "cell_type": "code",
   "execution_count": 24,
   "metadata": {},
   "outputs": [
    {
     "name": "stdout",
     "output_type": "stream",
     "text": [
      "Iterations: 0\n",
      "Iterations: 1\n",
      "Iterations: 2\n",
      "Iterations: 3\n",
      "Iterations: 4\n",
      "Iterations: 5\n",
      "Iterations: 6\n",
      "Iterations: 7\n",
      "Iterations: 8\n",
      "Iterations: 9\n",
      "Iterations: 10\n",
      "Iterations: 11\n",
      "Iterations: 12\n",
      "Iterations: 13\n",
      "Iterations: 14\n",
      "Iterations: 15\n",
      "Iterations: 16\n",
      "Iterations: 17\n",
      "Iterations: 18\n",
      "Iterations: 19\n",
      "Iterations: 20\n",
      "Iterations: 21\n",
      "Iterations: 22\n",
      "Iterations: 23\n",
      "Iterations: 24\n",
      "Iterations: 25\n",
      "Iterations: 26\n",
      "Iterations: 27\n",
      "Iterations: 28\n",
      "Iterations: 29\n",
      "Iterations: 30\n",
      "Iterations: 31\n",
      "Iterations: 32\n",
      "Iterations: 33\n",
      "Iterations: 34\n",
      "Iterations: 35\n",
      "Iterations: 36\n",
      "Iterations: 37\n",
      "Iterations: 38\n",
      "Iterations: 39\n",
      "Iterations: 40\n",
      "Iterations: 41\n",
      "Iterations: 42\n",
      "Iterations: 43\n",
      "Iterations: 44\n",
      "Iterations: 45\n",
      "Finished!\n"
     ]
    }
   ],
   "source": [
    "# Calculate roadway distance\n",
    "nfile = len(point_nadFC)\n",
    "for count in range(nfile):\n",
    "    print(\"Iterations: {}\".format(count))\n",
    "    # !!! The NEAR_DIST column will be rewritten if new near analysis is performed.\n",
    "    near_analysis(point_nadFC[count], dmvroad_nadFC, road_dist_file)\n",
    "print(\"Finished!\")"
   ]
  },
  {
   "cell_type": "code",
   "execution_count": null,
   "metadata": {},
   "outputs": [],
   "source": []
  }
 ],
 "metadata": {
  "kernelspec": {
   "display_name": "Python 3",
   "language": "python",
   "name": "python3"
  },
  "language_info": {
   "codemirror_mode": {
    "name": "ipython",
    "version": 3
   },
   "file_extension": ".py",
   "mimetype": "text/x-python",
   "name": "python",
   "nbconvert_exporter": "python",
   "pygments_lexer": "ipython3",
   "version": "3.5.4"
  }
 },
 "nbformat": 4,
 "nbformat_minor": 2
}
